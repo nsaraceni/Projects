{
  "metadata": {
    "language_info": {
      "codemirror_mode": {
        "name": "python",
        "version": 3
      },
      "file_extension": ".py",
      "mimetype": "text/x-python",
      "name": "python",
      "nbconvert_exporter": "python",
      "pygments_lexer": "ipython3",
      "version": "3.8"
    },
    "kernelspec": {
      "name": "python",
      "display_name": "Pyolite",
      "language": "python"
    }
  },
  "nbformat_minor": 4,
  "nbformat": 4,
  "cells": [
    {
      "cell_type": "markdown",
      "source": "## The Dataset \n\nThe original source of the data is Australian Government's Bureau of Meteorology and the latest data can be gathered from http://www.bom.gov.au/climate/dwo/.\n\nThis dataset contains observations of weather metrics for each day from 2008 to 2017. The weatherAUS.csv is the dataset that will be used for this project.",
      "metadata": {}
    },
    {
      "cell_type": "code",
      "source": "# importing the libraries and installing packages.\n\ndef warn (*args, **kwargs):\n    pass\nimport warnings\nwarnings.warn = warn",
      "metadata": {
        "trusted": true
      },
      "execution_count": 238,
      "outputs": []
    },
    {
      "cell_type": "code",
      "source": "import piplite\nawait piplite.install(['pandas'])\nawait piplite.install(['numpy'])",
      "metadata": {
        "trusted": true
      },
      "execution_count": 239,
      "outputs": []
    },
    {
      "cell_type": "code",
      "source": "import pandas as pd\nimport numpy as np\nfrom sklearn.linear_model import LinearRegression\nfrom sklearn.linear_model import LogisticRegression\nfrom sklearn.model_selection import train_test_split\nfrom sklearn.neighbors import KNeighborsClassifier\nfrom sklearn.metrics import jaccard_score\nfrom sklearn.metrics import f1_score\nfrom sklearn.metrics import log_loss\nfrom sklearn.metrics import accuracy_score\nfrom sklearn.metrics import confusion_matrix, accuracy_score\nimport sklearn.metrics as metrics\nfrom sklearn import svm",
      "metadata": {
        "trusted": true
      },
      "execution_count": 240,
      "outputs": []
    },
    {
      "cell_type": "code",
      "source": "from pyodide.http import pyfetch\n\nasync def download(url, filename):\n    response = await pyfetch(url)\n    if response.status == 200:\n        with open(filename, 'wb') as f:\n            f.write(await response.bytes())",
      "metadata": {
        "trusted": true
      },
      "execution_count": 241,
      "outputs": []
    },
    {
      "cell_type": "code",
      "source": "path = 'https://cf-courses-data.s3.us.cloud-object-storage.appdomain.cloud/IBMDeveloperSkillsNetwork-ML0101EN-SkillUp/labs/ML-FinalAssignment/Weather_Data.csv'",
      "metadata": {
        "trusted": true
      },
      "execution_count": 242,
      "outputs": []
    },
    {
      "cell_type": "code",
      "source": "await download(path, 'Weather_Data.csv')\nfilename ='Weather_Data.csv'",
      "metadata": {
        "trusted": true
      },
      "execution_count": 243,
      "outputs": []
    },
    {
      "cell_type": "code",
      "source": "df = pd.read_csv('Weather_Data.csv')\ndf.head()",
      "metadata": {
        "trusted": true
      },
      "execution_count": 244,
      "outputs": [
        {
          "execution_count": 244,
          "output_type": "execute_result",
          "data": {
            "text/plain": "       Date  MinTemp  MaxTemp  Rainfall  Evaporation  Sunshine WindGustDir  \\\n0  2/1/2008     19.5     22.4      15.6          6.2       0.0           W   \n1  2/2/2008     19.5     25.6       6.0          3.4       2.7           W   \n2  2/3/2008     21.6     24.5       6.6          2.4       0.1           W   \n3  2/4/2008     20.2     22.8      18.8          2.2       0.0           W   \n4  2/5/2008     19.7     25.7      77.4          4.8       0.0           W   \n\n   WindGustSpeed WindDir9am WindDir3pm  ...  Humidity9am  Humidity3pm  \\\n0             41          S        SSW  ...           92           84   \n1             41          W          E  ...           83           73   \n2             41        ESE        ESE  ...           88           86   \n3             41        NNE          E  ...           83           90   \n4             41        NNE          W  ...           88           74   \n\n   Pressure9am  Pressure3pm  Cloud9am  Cloud3pm  Temp9am  Temp3pm  RainToday  \\\n0       1017.6       1017.4         8         8     20.7     20.9        Yes   \n1       1017.9       1016.4         7         7     22.4     24.8        Yes   \n2       1016.7       1015.6         7         8     23.5     23.0        Yes   \n3       1014.2       1011.8         8         8     21.4     20.9        Yes   \n4       1008.3       1004.8         8         8     22.5     25.5        Yes   \n\n   RainTomorrow  \n0           Yes  \n1           Yes  \n2           Yes  \n3           Yes  \n4           Yes  \n\n[5 rows x 22 columns]",
            "text/html": "<div>\n<style scoped>\n    .dataframe tbody tr th:only-of-type {\n        vertical-align: middle;\n    }\n\n    .dataframe tbody tr th {\n        vertical-align: top;\n    }\n\n    .dataframe thead th {\n        text-align: right;\n    }\n</style>\n<table border=\"1\" class=\"dataframe\">\n  <thead>\n    <tr style=\"text-align: right;\">\n      <th></th>\n      <th>Date</th>\n      <th>MinTemp</th>\n      <th>MaxTemp</th>\n      <th>Rainfall</th>\n      <th>Evaporation</th>\n      <th>Sunshine</th>\n      <th>WindGustDir</th>\n      <th>WindGustSpeed</th>\n      <th>WindDir9am</th>\n      <th>WindDir3pm</th>\n      <th>...</th>\n      <th>Humidity9am</th>\n      <th>Humidity3pm</th>\n      <th>Pressure9am</th>\n      <th>Pressure3pm</th>\n      <th>Cloud9am</th>\n      <th>Cloud3pm</th>\n      <th>Temp9am</th>\n      <th>Temp3pm</th>\n      <th>RainToday</th>\n      <th>RainTomorrow</th>\n    </tr>\n  </thead>\n  <tbody>\n    <tr>\n      <th>0</th>\n      <td>2/1/2008</td>\n      <td>19.5</td>\n      <td>22.4</td>\n      <td>15.6</td>\n      <td>6.2</td>\n      <td>0.0</td>\n      <td>W</td>\n      <td>41</td>\n      <td>S</td>\n      <td>SSW</td>\n      <td>...</td>\n      <td>92</td>\n      <td>84</td>\n      <td>1017.6</td>\n      <td>1017.4</td>\n      <td>8</td>\n      <td>8</td>\n      <td>20.7</td>\n      <td>20.9</td>\n      <td>Yes</td>\n      <td>Yes</td>\n    </tr>\n    <tr>\n      <th>1</th>\n      <td>2/2/2008</td>\n      <td>19.5</td>\n      <td>25.6</td>\n      <td>6.0</td>\n      <td>3.4</td>\n      <td>2.7</td>\n      <td>W</td>\n      <td>41</td>\n      <td>W</td>\n      <td>E</td>\n      <td>...</td>\n      <td>83</td>\n      <td>73</td>\n      <td>1017.9</td>\n      <td>1016.4</td>\n      <td>7</td>\n      <td>7</td>\n      <td>22.4</td>\n      <td>24.8</td>\n      <td>Yes</td>\n      <td>Yes</td>\n    </tr>\n    <tr>\n      <th>2</th>\n      <td>2/3/2008</td>\n      <td>21.6</td>\n      <td>24.5</td>\n      <td>6.6</td>\n      <td>2.4</td>\n      <td>0.1</td>\n      <td>W</td>\n      <td>41</td>\n      <td>ESE</td>\n      <td>ESE</td>\n      <td>...</td>\n      <td>88</td>\n      <td>86</td>\n      <td>1016.7</td>\n      <td>1015.6</td>\n      <td>7</td>\n      <td>8</td>\n      <td>23.5</td>\n      <td>23.0</td>\n      <td>Yes</td>\n      <td>Yes</td>\n    </tr>\n    <tr>\n      <th>3</th>\n      <td>2/4/2008</td>\n      <td>20.2</td>\n      <td>22.8</td>\n      <td>18.8</td>\n      <td>2.2</td>\n      <td>0.0</td>\n      <td>W</td>\n      <td>41</td>\n      <td>NNE</td>\n      <td>E</td>\n      <td>...</td>\n      <td>83</td>\n      <td>90</td>\n      <td>1014.2</td>\n      <td>1011.8</td>\n      <td>8</td>\n      <td>8</td>\n      <td>21.4</td>\n      <td>20.9</td>\n      <td>Yes</td>\n      <td>Yes</td>\n    </tr>\n    <tr>\n      <th>4</th>\n      <td>2/5/2008</td>\n      <td>19.7</td>\n      <td>25.7</td>\n      <td>77.4</td>\n      <td>4.8</td>\n      <td>0.0</td>\n      <td>W</td>\n      <td>41</td>\n      <td>NNE</td>\n      <td>W</td>\n      <td>...</td>\n      <td>88</td>\n      <td>74</td>\n      <td>1008.3</td>\n      <td>1004.8</td>\n      <td>8</td>\n      <td>8</td>\n      <td>22.5</td>\n      <td>25.5</td>\n      <td>Yes</td>\n      <td>Yes</td>\n    </tr>\n  </tbody>\n</table>\n<p>5 rows × 22 columns</p>\n</div>"
          },
          "metadata": {}
        }
      ]
    },
    {
      "cell_type": "code",
      "source": "# this is where we will do hot coding to covert categorical variables to binary ones\n\ndf_sydney_processed = pd.get_dummies(data=df, columns=['RainToday', 'WindGustDir', 'WindDir9am', 'WindDir3pm'])",
      "metadata": {
        "trusted": true
      },
      "execution_count": 245,
      "outputs": []
    },
    {
      "cell_type": "code",
      "source": "# now we change the columns to a categorical cloumn from a binary one\n\ndf_sydney_processed.replace(['No', 'Yes'], [0,1], inplace=True)",
      "metadata": {
        "trusted": true
      },
      "execution_count": 246,
      "outputs": []
    },
    {
      "cell_type": "code",
      "source": "# train and test the data set\ndf_sydney_processed.drop('Date', axis=1, inplace=True)\ndf_sydney_processed = df_sydney_processed.astype(float)",
      "metadata": {
        "trusted": true
      },
      "execution_count": 247,
      "outputs": []
    },
    {
      "cell_type": "code",
      "source": "features = df_sydney_processed.drop(columns='RainTomorrow', axis=1)\nY = df_sydney_processed['RainTomorrow']",
      "metadata": {
        "trusted": true
      },
      "execution_count": 248,
      "outputs": []
    },
    {
      "cell_type": "code",
      "source": "x = np.array(df_sydney_processed)\n",
      "metadata": {
        "trusted": true
      },
      "execution_count": 249,
      "outputs": []
    },
    {
      "cell_type": "markdown",
      "source": "#### Linear Regression",
      "metadata": {}
    },
    {
      "cell_type": "code",
      "source": "from sklearn import preprocessing\nx= preprocessing.StandardScaler().fit(x).transform(x)\n",
      "metadata": {
        "trusted": true
      },
      "execution_count": 250,
      "outputs": []
    },
    {
      "cell_type": "code",
      "source": "# Q1\n# train test split the features with test size .2 and random state 10\n\nx_train, x_test, Y_train, Y_test = train_test_split(x, Y, test_size=.2, random_state=10)\nprint(x_train.shape, Y_train.shape)\nprint(x_test.shape, Y_test.shape)",
      "metadata": {
        "trusted": true
      },
      "execution_count": 251,
      "outputs": [
        {
          "name": "stdout",
          "text": "(2616, 67) (2616,)\n(655, 67) (655,)\n",
          "output_type": "stream"
        }
      ]
    },
    {
      "cell_type": "code",
      "source": "df_sydney_processed.head()",
      "metadata": {
        "trusted": true
      },
      "execution_count": 252,
      "outputs": [
        {
          "execution_count": 252,
          "output_type": "execute_result",
          "data": {
            "text/plain": "   MinTemp  MaxTemp  Rainfall  Evaporation  Sunshine  WindGustSpeed  \\\n0     19.5     22.4      15.6          6.2       0.0           41.0   \n1     19.5     25.6       6.0          3.4       2.7           41.0   \n2     21.6     24.5       6.6          2.4       0.1           41.0   \n3     20.2     22.8      18.8          2.2       0.0           41.0   \n4     19.7     25.7      77.4          4.8       0.0           41.0   \n\n   WindSpeed9am  WindSpeed3pm  Humidity9am  Humidity3pm  ...  WindDir3pm_NNW  \\\n0          17.0          20.0         92.0         84.0  ...             0.0   \n1           9.0          13.0         83.0         73.0  ...             0.0   \n2          17.0           2.0         88.0         86.0  ...             0.0   \n3          22.0          20.0         83.0         90.0  ...             0.0   \n4          11.0           6.0         88.0         74.0  ...             0.0   \n\n   WindDir3pm_NW  WindDir3pm_S  WindDir3pm_SE  WindDir3pm_SSE  WindDir3pm_SSW  \\\n0            0.0           0.0            0.0             0.0             1.0   \n1            0.0           0.0            0.0             0.0             0.0   \n2            0.0           0.0            0.0             0.0             0.0   \n3            0.0           0.0            0.0             0.0             0.0   \n4            0.0           0.0            0.0             0.0             0.0   \n\n   WindDir3pm_SW  WindDir3pm_W  WindDir3pm_WNW  WindDir3pm_WSW  \n0            0.0           0.0             0.0             0.0  \n1            0.0           0.0             0.0             0.0  \n2            0.0           0.0             0.0             0.0  \n3            0.0           0.0             0.0             0.0  \n4            0.0           1.0             0.0             0.0  \n\n[5 rows x 67 columns]",
            "text/html": "<div>\n<style scoped>\n    .dataframe tbody tr th:only-of-type {\n        vertical-align: middle;\n    }\n\n    .dataframe tbody tr th {\n        vertical-align: top;\n    }\n\n    .dataframe thead th {\n        text-align: right;\n    }\n</style>\n<table border=\"1\" class=\"dataframe\">\n  <thead>\n    <tr style=\"text-align: right;\">\n      <th></th>\n      <th>MinTemp</th>\n      <th>MaxTemp</th>\n      <th>Rainfall</th>\n      <th>Evaporation</th>\n      <th>Sunshine</th>\n      <th>WindGustSpeed</th>\n      <th>WindSpeed9am</th>\n      <th>WindSpeed3pm</th>\n      <th>Humidity9am</th>\n      <th>Humidity3pm</th>\n      <th>...</th>\n      <th>WindDir3pm_NNW</th>\n      <th>WindDir3pm_NW</th>\n      <th>WindDir3pm_S</th>\n      <th>WindDir3pm_SE</th>\n      <th>WindDir3pm_SSE</th>\n      <th>WindDir3pm_SSW</th>\n      <th>WindDir3pm_SW</th>\n      <th>WindDir3pm_W</th>\n      <th>WindDir3pm_WNW</th>\n      <th>WindDir3pm_WSW</th>\n    </tr>\n  </thead>\n  <tbody>\n    <tr>\n      <th>0</th>\n      <td>19.5</td>\n      <td>22.4</td>\n      <td>15.6</td>\n      <td>6.2</td>\n      <td>0.0</td>\n      <td>41.0</td>\n      <td>17.0</td>\n      <td>20.0</td>\n      <td>92.0</td>\n      <td>84.0</td>\n      <td>...</td>\n      <td>0.0</td>\n      <td>0.0</td>\n      <td>0.0</td>\n      <td>0.0</td>\n      <td>0.0</td>\n      <td>1.0</td>\n      <td>0.0</td>\n      <td>0.0</td>\n      <td>0.0</td>\n      <td>0.0</td>\n    </tr>\n    <tr>\n      <th>1</th>\n      <td>19.5</td>\n      <td>25.6</td>\n      <td>6.0</td>\n      <td>3.4</td>\n      <td>2.7</td>\n      <td>41.0</td>\n      <td>9.0</td>\n      <td>13.0</td>\n      <td>83.0</td>\n      <td>73.0</td>\n      <td>...</td>\n      <td>0.0</td>\n      <td>0.0</td>\n      <td>0.0</td>\n      <td>0.0</td>\n      <td>0.0</td>\n      <td>0.0</td>\n      <td>0.0</td>\n      <td>0.0</td>\n      <td>0.0</td>\n      <td>0.0</td>\n    </tr>\n    <tr>\n      <th>2</th>\n      <td>21.6</td>\n      <td>24.5</td>\n      <td>6.6</td>\n      <td>2.4</td>\n      <td>0.1</td>\n      <td>41.0</td>\n      <td>17.0</td>\n      <td>2.0</td>\n      <td>88.0</td>\n      <td>86.0</td>\n      <td>...</td>\n      <td>0.0</td>\n      <td>0.0</td>\n      <td>0.0</td>\n      <td>0.0</td>\n      <td>0.0</td>\n      <td>0.0</td>\n      <td>0.0</td>\n      <td>0.0</td>\n      <td>0.0</td>\n      <td>0.0</td>\n    </tr>\n    <tr>\n      <th>3</th>\n      <td>20.2</td>\n      <td>22.8</td>\n      <td>18.8</td>\n      <td>2.2</td>\n      <td>0.0</td>\n      <td>41.0</td>\n      <td>22.0</td>\n      <td>20.0</td>\n      <td>83.0</td>\n      <td>90.0</td>\n      <td>...</td>\n      <td>0.0</td>\n      <td>0.0</td>\n      <td>0.0</td>\n      <td>0.0</td>\n      <td>0.0</td>\n      <td>0.0</td>\n      <td>0.0</td>\n      <td>0.0</td>\n      <td>0.0</td>\n      <td>0.0</td>\n    </tr>\n    <tr>\n      <th>4</th>\n      <td>19.7</td>\n      <td>25.7</td>\n      <td>77.4</td>\n      <td>4.8</td>\n      <td>0.0</td>\n      <td>41.0</td>\n      <td>11.0</td>\n      <td>6.0</td>\n      <td>88.0</td>\n      <td>74.0</td>\n      <td>...</td>\n      <td>0.0</td>\n      <td>0.0</td>\n      <td>0.0</td>\n      <td>0.0</td>\n      <td>0.0</td>\n      <td>0.0</td>\n      <td>0.0</td>\n      <td>1.0</td>\n      <td>0.0</td>\n      <td>0.0</td>\n    </tr>\n  </tbody>\n</table>\n<p>5 rows × 67 columns</p>\n</div>"
          },
          "metadata": {}
        }
      ]
    },
    {
      "cell_type": "code",
      "source": "Y[0:5]",
      "metadata": {
        "trusted": true
      },
      "execution_count": 253,
      "outputs": [
        {
          "execution_count": 253,
          "output_type": "execute_result",
          "data": {
            "text/plain": "0    1.0\n1    1.0\n2    1.0\n3    1.0\n4    1.0\nName: RainTomorrow, dtype: float64"
          },
          "metadata": {}
        }
      ]
    },
    {
      "cell_type": "code",
      "source": "# Q2\n\nLinearReg = LinearRegression()\nLinearReg.fit(x_train, Y_train)",
      "metadata": {
        "trusted": true
      },
      "execution_count": 254,
      "outputs": [
        {
          "execution_count": 254,
          "output_type": "execute_result",
          "data": {
            "text/plain": "LinearRegression()"
          },
          "metadata": {}
        }
      ]
    },
    {
      "cell_type": "code",
      "source": "# Q3\n\npredictions = LinearReg.predict(x_test)",
      "metadata": {
        "trusted": true
      },
      "execution_count": 255,
      "outputs": []
    },
    {
      "cell_type": "code",
      "source": "# Q4\nfrom sklearn.metrics import r2_score\nx_test = np.asanyarray(predictions)\nY_test = predictions\nY_test = np.asanyarray(predictions)\n\nprint('LinearRegression_MAE = %.2f' % np.mean(np.absolute(Y_test - Y_test)))\nprint('LinearRegression_R2 = %2f' % r2_score(Y_test, Y_test))\nprint('LinearRegression_MSE = %.2f' % np.mean((Y_test - Y_test)))\n",
      "metadata": {
        "trusted": true
      },
      "execution_count": 256,
      "outputs": [
        {
          "name": "stdout",
          "text": "LinearRegression_MAE = 0.00\nLinearRegression_R2 = 1.000000\nLinearRegression_MSE = 0.00\n",
          "output_type": "stream"
        }
      ]
    },
    {
      "cell_type": "code",
      "source": "from sklearn.metrics import mean_squared_error, mean_absolute_error, r2_score\nLinearRegression_MAE =  mean_squared_error(predictions, Y_test)\nLinearRegression_MSE = mean_absolute_error(predictions, Y_test)\nLinearRegression_R2 = r2_score(predictions, Y_test)",
      "metadata": {
        "trusted": true
      },
      "execution_count": 257,
      "outputs": []
    },
    {
      "cell_type": "code",
      "source": "# tubular format\n# Q5\n\nReport = {\"Metrics\":[\"MAE\",\"MSE\",\"R2\"],\"Result\": \n    [LinearRegression_MAE,LinearRegression_MSE,LinearRegression_R2]}\npd.DataFrame(Report)",
      "metadata": {
        "trusted": true
      },
      "execution_count": 258,
      "outputs": [
        {
          "execution_count": 258,
          "output_type": "execute_result",
          "data": {
            "text/plain": "  Metrics  Result\n0     MAE     0.0\n1     MSE     0.0\n2      R2     1.0",
            "text/html": "<div>\n<style scoped>\n    .dataframe tbody tr th:only-of-type {\n        vertical-align: middle;\n    }\n\n    .dataframe tbody tr th {\n        vertical-align: top;\n    }\n\n    .dataframe thead th {\n        text-align: right;\n    }\n</style>\n<table border=\"1\" class=\"dataframe\">\n  <thead>\n    <tr style=\"text-align: right;\">\n      <th></th>\n      <th>Metrics</th>\n      <th>Result</th>\n    </tr>\n  </thead>\n  <tbody>\n    <tr>\n      <th>0</th>\n      <td>MAE</td>\n      <td>0.0</td>\n    </tr>\n    <tr>\n      <th>1</th>\n      <td>MSE</td>\n      <td>0.0</td>\n    </tr>\n    <tr>\n      <th>2</th>\n      <td>R2</td>\n      <td>1.0</td>\n    </tr>\n  </tbody>\n</table>\n</div>"
          },
          "metadata": {}
        }
      ]
    },
    {
      "cell_type": "code",
      "source": "x_train, x_test, Y_train, Y_test = train_test_split(x, Y, test_size=.2, random_state=10)\nprint('Train set:', x_train.shape, Y_train.shape)\nprint('Test set:', x_test.shape, Y_test.shape)",
      "metadata": {
        "trusted": true
      },
      "execution_count": 259,
      "outputs": [
        {
          "name": "stdout",
          "text": "Train set: (2616, 67) (2616,)\nTest set: (655, 67) (655,)\n",
          "output_type": "stream"
        }
      ]
    },
    {
      "cell_type": "code",
      "source": "scaler = preprocessing.StandardScaler().fit(x_train)",
      "metadata": {
        "trusted": true
      },
      "execution_count": 260,
      "outputs": []
    },
    {
      "cell_type": "code",
      "source": "# transforming the train model and changing it to a float\n\nx_train = scaler.transform(x_train.astype(float))\nx_train[0:2]",
      "metadata": {
        "trusted": true
      },
      "execution_count": 261,
      "outputs": [
        {
          "execution_count": 261,
          "output_type": "execute_result",
          "data": {
            "text/plain": "array([[-0.01652033, -0.22351516,  3.05624855, -0.3528601 , -1.49917863,\n         0.81280282,  0.54686322,  0.63906113,  1.45139438, -0.34685075,\n         1.42955371,  1.46816932,  1.45395941,  1.16411721, -0.42868452,\n         0.06119933,  1.71284401, -1.73381821,  1.73381821, -0.19412228,\n        -0.26363085, -0.20951051, -0.09209294, -0.23052136, -0.22306777,\n        -0.12773808, -0.151901  , -0.2296003 , -0.14380157,  3.64624217,\n        -0.23417666, -0.12773808, -0.88431688, -0.1596252 , -0.20347303,\n        -0.21540659, -0.15708867, -0.21050268, -0.18101787, -0.15836152,\n        -0.16702646, -0.18325819, -0.1694292 , -0.21540659, -0.17646286,\n        -0.19412228, -0.2413554 , -0.13816088,  1.26506823, -0.41667788,\n        -0.17061927, -0.48850421, -0.35035237,  2.94769213, -0.13525922,\n        -0.33219954, -0.14654687, -0.1077076 , -0.13671719, -0.28615705,\n        -0.26196842, -0.28927244, -0.21830526, -0.11475228, -0.25777751,\n        -0.24312407, -0.18436945],\n       [-1.48410863, -1.02974152, -0.32145584, -0.13481781,  0.33920558,\n        -0.03658154,  0.68895641, -1.10154362,  0.12665076, -0.28468566,\n         2.36794394,  2.02500261, -0.51659173, -1.30240328, -1.72800883,\n        -1.20402264, -0.58382433,  0.57676174, -0.57676174, -0.19412228,\n        -0.26363085, -0.20951051, -0.09209294, -0.23052136, -0.22306777,\n        -0.12773808, -0.151901  , -0.2296003 , -0.14380157, -0.27425496,\n        -0.23417666, -0.12773808,  1.13081636, -0.1596252 , -0.20347303,\n        -0.21540659, -0.15708867, -0.21050268, -0.18101787, -0.15836152,\n        -0.16702646, -0.18325819, -0.1694292 , -0.21540659, -0.17646286,\n        -0.19412228, -0.2413554 , -0.13816088,  1.26506823, -0.41667788,\n        -0.17061927, -0.48850421, -0.35035237,  2.94769213, -0.13525922,\n        -0.33219954, -0.14654687, -0.1077076 , -0.13671719, -0.28615705,\n        -0.26196842, -0.28927244, -0.21830526, -0.11475228, -0.25777751,\n        -0.24312407, -0.18436945]])"
          },
          "metadata": {}
        }
      ]
    },
    {
      "cell_type": "code",
      "source": "# Creating a KNN model called KNN using the perameter 4 as k\n#Q6\n\nfrom sklearn.neighbors import KNeighborsClassifier \n\nk=4\nKNN = KNeighborsClassifier(n_neighbors=k).fit(x_train, Y_train)\nKNN",
      "metadata": {
        "trusted": true
      },
      "execution_count": 262,
      "outputs": [
        {
          "execution_count": 262,
          "output_type": "execute_result",
          "data": {
            "text/plain": "KNeighborsClassifier(n_neighbors=4)"
          },
          "metadata": {}
        }
      ]
    },
    {
      "cell_type": "code",
      "source": "x_test = scaler.transform(x_test.astype(float))\nx_test[0:3]\n",
      "metadata": {
        "trusted": true
      },
      "execution_count": 263,
      "outputs": [
        {
          "execution_count": 263,
          "output_type": "execute_result",
          "data": {
            "text/plain": "array([[ 0.83774748,  2.84462403, -0.30146942,  0.30126676,  0.68061979,\n         1.47343511, -0.30569589, -0.29818758, -1.59551595, -1.90097783,\n        -1.41405301, -1.18749715, -0.51659173,  0.34194372,  1.58120779,\n         2.19333264, -0.58382433,  0.57676174, -0.57676174, -0.19412228,\n        -0.26363085, -0.20951051, -0.09209294, -0.23052136, -0.22306777,\n        -0.12773808, -0.151901  , -0.2296003 , -0.14380157, -0.27425496,\n         4.27028033, -0.12773808, -0.88431688, -0.1596252 , -0.20347303,\n        -0.21540659, -0.15708867, -0.21050268, -0.18101787, -0.15836152,\n        -0.16702646, -0.18325819, -0.1694292 , -0.21540659, -0.17646286,\n        -0.19412228, -0.2413554 , -0.13816088, -0.7904712 ,  2.3999354 ,\n        -0.17061927, -0.48850421, -0.35035237,  2.94769213, -0.13525922,\n        -0.33219954, -0.14654687, -0.1077076 , -0.13671719, -0.28615705,\n        -0.26196842, -0.28927244, -0.21830526, -0.11475228, -0.25777751,\n        -0.24312407, -0.18436945],\n       [ 0.02728827,  0.40354978,  1.91702281, -0.64358315,  0.65435716,\n        -0.4140857 ,  0.54686322,  0.10349044,  0.25912512, -0.09819041,\n        -0.16286605,  0.0689472 , -1.30481219, -0.48022978,  0.03826016,\n         0.6235202 , -0.58382433, -1.73381821,  1.73381821, -0.19412228,\n        -0.26363085, -0.20951051, -0.09209294, -0.23052136, -0.22306777,\n        -0.12773808, -0.151901  , -0.2296003 , -0.14380157, -0.27425496,\n         4.27028033, -0.12773808, -0.88431688, -0.1596252 , -0.20347303,\n        -0.21540659, -0.15708867, -0.21050268, -0.18101787, -0.15836152,\n        -0.16702646, -0.18325819, -0.1694292 , -0.21540659, -0.17646286,\n        -0.19412228, -0.2413554 , -0.13816088,  1.26506823, -0.41667788,\n        -0.17061927, -0.48850421, -0.35035237, -0.33924845, -0.13525922,\n        -0.33219954, -0.14654687, -0.1077076 , -0.13671719, -0.28615705,\n        -0.26196842,  3.45694881, -0.21830526, -0.11475228, -0.25777751,\n        -0.24312407, -0.18436945],\n       [-1.39649142, -1.56722576,  0.01831324, -1.15234849, -0.76382495,\n         3.07782779,  2.8203542 ,  0.37127578,  1.05397129,  2.01542242,\n        -1.71263172, -0.75916385,  0.27162872,  1.16411721, -1.84982049,\n        -2.18808417,  1.71284401, -1.73381821,  1.73381821, -0.19412228,\n        -0.26363085, -0.20951051, -0.09209294, -0.23052136, -0.22306777,\n        -0.12773808, -0.151901  , -0.2296003 , -0.14380157, -0.27425496,\n         4.27028033, -0.12773808, -0.88431688, -0.1596252 , -0.20347303,\n        -0.21540659, -0.15708867, -0.21050268, -0.18101787, -0.15836152,\n        -0.16702646, -0.18325819, -0.1694292 , -0.21540659, -0.17646286,\n        -0.19412228, -0.2413554 , -0.13816088,  1.26506823, -0.41667788,\n        -0.17061927, -0.48850421, -0.35035237, -0.33924845, -0.13525922,\n        -0.33219954, -0.14654687, -0.1077076 , -0.13671719, -0.28615705,\n        -0.26196842, -0.28927244,  4.58074156, -0.11475228, -0.25777751,\n        -0.24312407, -0.18436945]])"
          },
          "metadata": {}
        }
      ]
    },
    {
      "cell_type": "code",
      "source": "# Use the predict method on the testing data x_test,\n# save it to predictions\n\n#Q7\n\npredictions = KNN.predict(x_test)",
      "metadata": {
        "trusted": true
      },
      "execution_count": 264,
      "outputs": []
    },
    {
      "cell_type": "code",
      "source": "# Use the predictions and the Y_test to calculate the accuracy_score,\n# the jaccard_score, and the f1_score.\n\n#Q8\n\nfrom sklearn.metrics import jaccard_score, f1_score, accuracy_score\n\nKNN_Accuracy_Score = accuracy_score(predictions, Y_test)\nKNN_JaccardIndex = jaccard_score(predictions, Y_test)\nKNN_F1_Score = f1_score(predictions, Y_test)",
      "metadata": {
        "trusted": true
      },
      "execution_count": 265,
      "outputs": []
    },
    {
      "cell_type": "code",
      "source": "Report = {\"Metrics\":[\"Accuracy_Score\",\"Jaccard_Score\",\"F1_Score\"],\"Result\": \n    [KNN_Accuracy_Score,KNN_JaccardIndex,KNN_F1_Score]}\npd.DataFrame(Report)",
      "metadata": {
        "trusted": true
      },
      "execution_count": 266,
      "outputs": [
        {
          "execution_count": 266,
          "output_type": "execute_result",
          "data": {
            "text/plain": "          Metrics    Result\n0  Accuracy_Score  0.816794\n1   Jaccard_Score  0.378238\n2        F1_Score  0.548872",
            "text/html": "<div>\n<style scoped>\n    .dataframe tbody tr th:only-of-type {\n        vertical-align: middle;\n    }\n\n    .dataframe tbody tr th {\n        vertical-align: top;\n    }\n\n    .dataframe thead th {\n        text-align: right;\n    }\n</style>\n<table border=\"1\" class=\"dataframe\">\n  <thead>\n    <tr style=\"text-align: right;\">\n      <th></th>\n      <th>Metrics</th>\n      <th>Result</th>\n    </tr>\n  </thead>\n  <tbody>\n    <tr>\n      <th>0</th>\n      <td>Accuracy_Score</td>\n      <td>0.816794</td>\n    </tr>\n    <tr>\n      <th>1</th>\n      <td>Jaccard_Score</td>\n      <td>0.378238</td>\n    </tr>\n    <tr>\n      <th>2</th>\n      <td>F1_Score</td>\n      <td>0.548872</td>\n    </tr>\n  </tbody>\n</table>\n</div>"
          },
          "metadata": {}
        }
      ]
    },
    {
      "cell_type": "code",
      "source": "# create a decision tree model called tree, \n# use data x_test and Y_test\n\n#Q9\nfrom sklearn.tree import DecisionTreeClassifier\nTree = DecisionTreeClassifier(criterion = 'entropy', max_depth=4)\nTree.fit(x_train, Y_train)",
      "metadata": {
        "trusted": true
      },
      "execution_count": 267,
      "outputs": [
        {
          "execution_count": 267,
          "output_type": "execute_result",
          "data": {
            "text/plain": "DecisionTreeClassifier(criterion='entropy', max_depth=4)"
          },
          "metadata": {}
        }
      ]
    },
    {
      "cell_type": "code",
      "source": "# use the prdict method testing dat x_test save it to predictions\n\n#Q10\n\npredictions = Tree.predict(x_test)",
      "metadata": {
        "trusted": true
      },
      "execution_count": 268,
      "outputs": []
    },
    {
      "cell_type": "code",
      "source": "# use predictions and the y_test dataframe calculate the value for each metric\n\n#Q11\n\nTree_Accuracy_Score = accuracy_score(predictions,Y_test)\nTree_JaccardIndex = jaccard_score(predictions, Y_test)\nTree_F1_Score = f1_score(predictions, Y_test)",
      "metadata": {
        "trusted": true
      },
      "execution_count": 269,
      "outputs": []
    },
    {
      "cell_type": "code",
      "source": "# Making it tubular\n\nReport = {'Mertics': ['Accuarcy_Score', 'JaccardIndex', 'F1_Score'], 'Result':\n    [Tree_Accuracy_Score, Tree_JaccardIndex, Tree_F1_Score]}\npd.DataFrame(Report)\n          ",
      "metadata": {
        "trusted": true
      },
      "execution_count": 270,
      "outputs": [
        {
          "execution_count": 270,
          "output_type": "execute_result",
          "data": {
            "text/plain": "          Mertics  Result\n0  Accuarcy_Score     1.0\n1    JaccardIndex     1.0\n2        F1_Score     1.0",
            "text/html": "<div>\n<style scoped>\n    .dataframe tbody tr th:only-of-type {\n        vertical-align: middle;\n    }\n\n    .dataframe tbody tr th {\n        vertical-align: top;\n    }\n\n    .dataframe thead th {\n        text-align: right;\n    }\n</style>\n<table border=\"1\" class=\"dataframe\">\n  <thead>\n    <tr style=\"text-align: right;\">\n      <th></th>\n      <th>Mertics</th>\n      <th>Result</th>\n    </tr>\n  </thead>\n  <tbody>\n    <tr>\n      <th>0</th>\n      <td>Accuarcy_Score</td>\n      <td>1.0</td>\n    </tr>\n    <tr>\n      <th>1</th>\n      <td>JaccardIndex</td>\n      <td>1.0</td>\n    </tr>\n    <tr>\n      <th>2</th>\n      <td>F1_Score</td>\n      <td>1.0</td>\n    </tr>\n  </tbody>\n</table>\n</div>"
          },
          "metadata": {}
        }
      ]
    },
    {
      "cell_type": "code",
      "source": "# Use train_test_slpit to split the features and Y dataframes,\n# with a test_size of .2 and random state 1\n\n#Q12\n\nfrom sklearn.model_selection import train_test_split\nx_train, x_test, Y_train, Y_test = train_test_split(x, Y, test_size=.2, random_state=10)\nprint('Train set:', x_train.shape, Y_train.shape)\nprint('Test set:', x_test.shape, Y_test.shape)",
      "metadata": {
        "trusted": true
      },
      "execution_count": 271,
      "outputs": [
        {
          "name": "stdout",
          "text": "Train set: (2616, 67) (2616,)\nTest set: (655, 67) (655,)\n",
          "output_type": "stream"
        }
      ]
    },
    {
      "cell_type": "code",
      "source": "# train logistic regression using the train data x_train, y_train,\n# solver = liblinear. \n\n#Q13\n\nLR = LogisticRegression(C=0.01, solver='liblinear').fit(x_train, Y_train)\nLR",
      "metadata": {
        "trusted": true
      },
      "execution_count": 272,
      "outputs": [
        {
          "execution_count": 272,
          "output_type": "execute_result",
          "data": {
            "text/plain": "LogisticRegression(C=0.01, solver='liblinear')"
          },
          "metadata": {}
        }
      ]
    },
    {
      "cell_type": "code",
      "source": "# use the predictions and predict_proba using x_test,\n# save 2 arrays as predictions and predict_proba\n\n#Q14\n\npredictions = LR.predict(x_test)\npredict_proba = LR.predict_proba(x_test)",
      "metadata": {
        "trusted": true
      },
      "execution_count": 273,
      "outputs": []
    },
    {
      "cell_type": "code",
      "source": "#use predictions adn predict_proba with the Y_test DFrame, \n# to calculate the value for each metric using the righ function\n\n#Q15\n\nLR_Accuracy_Score = accuracy_score(predictions, Y_test)\nLR_JaccardIndex = jaccard_score( predictions, Y_test)\nLR_F1_Score = f1_score(predictions, Y_test)\nLR_Log_Loss = log_loss(predictions, Y_test)\n",
      "metadata": {
        "trusted": true
      },
      "execution_count": 280,
      "outputs": []
    },
    {
      "cell_type": "code",
      "source": "# making it tubular\n\nReport = {'Metrics': ['Accuracy_score', 'JaccardIndex', 'F1_score', 'Log_loss'], 'Results':\n          [LR_Accuracy_Score, LR_JaccardIndex, LR_F1_Score, LR_Log_Loss]}\npd.DataFrame(Report)",
      "metadata": {
        "trusted": true
      },
      "execution_count": 281,
      "outputs": [
        {
          "execution_count": 281,
          "output_type": "execute_result",
          "data": {
            "text/plain": "          Metrics   Results\n0  Accuracy_score  0.993893\n1    JaccardIndex  0.978261\n2        F1_score  0.989011\n3        Log_loss  0.210929",
            "text/html": "<div>\n<style scoped>\n    .dataframe tbody tr th:only-of-type {\n        vertical-align: middle;\n    }\n\n    .dataframe tbody tr th {\n        vertical-align: top;\n    }\n\n    .dataframe thead th {\n        text-align: right;\n    }\n</style>\n<table border=\"1\" class=\"dataframe\">\n  <thead>\n    <tr style=\"text-align: right;\">\n      <th></th>\n      <th>Metrics</th>\n      <th>Results</th>\n    </tr>\n  </thead>\n  <tbody>\n    <tr>\n      <th>0</th>\n      <td>Accuracy_score</td>\n      <td>0.993893</td>\n    </tr>\n    <tr>\n      <th>1</th>\n      <td>JaccardIndex</td>\n      <td>0.978261</td>\n    </tr>\n    <tr>\n      <th>2</th>\n      <td>F1_score</td>\n      <td>0.989011</td>\n    </tr>\n    <tr>\n      <th>3</th>\n      <td>Log_loss</td>\n      <td>0.210929</td>\n    </tr>\n  </tbody>\n</table>\n</div>"
          },
          "metadata": {}
        }
      ]
    },
    {
      "cell_type": "code",
      "source": "# create and train a svm model using x_train and Y_train\n\n#Q16\n\nSVM = svm.SVC(kernel='rbf')\nSVM.fit(x_train, Y_train)",
      "metadata": {
        "trusted": true
      },
      "execution_count": 276,
      "outputs": [
        {
          "execution_count": 276,
          "output_type": "execute_result",
          "data": {
            "text/plain": "SVC()"
          },
          "metadata": {}
        }
      ]
    },
    {
      "cell_type": "code",
      "source": "# Use theprdict method on the testing data x_test and save it as predictions\n\n#Q17\n\npredictions = SVM.predict(x_test)",
      "metadata": {
        "trusted": true
      },
      "execution_count": 277,
      "outputs": []
    },
    {
      "cell_type": "code",
      "source": "# using predictions and the y_test calculate the value for each metric \n\n#Q18\n\nSVM_Accuracy_Score = accuracy_score(predictions, Y_test)\nSVM_JaccardIndex = jaccard_score(predictions, Y_test)\nSVM_F1_Score = f1_score(predictions, Y_test)",
      "metadata": {
        "trusted": true
      },
      "execution_count": 278,
      "outputs": []
    },
    {
      "cell_type": "code",
      "source": "Reports = {'Metrics': ['Accuracy_Score', 'JaccardIndex', 'F1_Score'], 'Results':\n          [SVM_Accuracy_Score, SVM_JaccardIndex, SVM_F1_Score]}\npd.DataFrame(Reports)\n          ",
      "metadata": {
        "trusted": true
      },
      "execution_count": 279,
      "outputs": [
        {
          "execution_count": 279,
          "output_type": "execute_result",
          "data": {
            "text/plain": "          Metrics   Results\n0  Accuracy_Score  0.993893\n1    JaccardIndex  0.978261\n2        F1_Score  0.989011",
            "text/html": "<div>\n<style scoped>\n    .dataframe tbody tr th:only-of-type {\n        vertical-align: middle;\n    }\n\n    .dataframe tbody tr th {\n        vertical-align: top;\n    }\n\n    .dataframe thead th {\n        text-align: right;\n    }\n</style>\n<table border=\"1\" class=\"dataframe\">\n  <thead>\n    <tr style=\"text-align: right;\">\n      <th></th>\n      <th>Metrics</th>\n      <th>Results</th>\n    </tr>\n  </thead>\n  <tbody>\n    <tr>\n      <th>0</th>\n      <td>Accuracy_Score</td>\n      <td>0.993893</td>\n    </tr>\n    <tr>\n      <th>1</th>\n      <td>JaccardIndex</td>\n      <td>0.978261</td>\n    </tr>\n    <tr>\n      <th>2</th>\n      <td>F1_Score</td>\n      <td>0.989011</td>\n    </tr>\n  </tbody>\n</table>\n</div>"
          },
          "metadata": {}
        }
      ]
    },
    {
      "cell_type": "code",
      "source": "",
      "metadata": {},
      "execution_count": null,
      "outputs": []
    },
    {
      "cell_type": "code",
      "source": "",
      "metadata": {},
      "execution_count": null,
      "outputs": []
    },
    {
      "cell_type": "code",
      "source": "",
      "metadata": {},
      "execution_count": null,
      "outputs": []
    }
  ]
}