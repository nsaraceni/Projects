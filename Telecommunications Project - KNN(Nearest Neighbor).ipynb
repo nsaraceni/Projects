{
  "metadata": {
    "language_info": {
      "codemirror_mode": {
        "name": "python",
        "version": 3
      },
      "file_extension": ".py",
      "mimetype": "text/x-python",
      "name": "python",
      "nbconvert_exporter": "python",
      "pygments_lexer": "ipython3",
      "version": "3.8"
    },
    "kernelspec": {
      "name": "python",
      "display_name": "Pyolite",
      "language": "python"
    }
  },
  "nbformat_minor": 4,
  "nbformat": 4,
  "cells": [
    {
      "cell_type": "markdown",
      "source": "## About the dataset\n\nImagine a telecommunications provider has segmented its customer base by service usage patterns, categorizing the customers into four groups. If demographic data can be used to predict group membership, the company can customize offers for individual prospective customers. It is a classification problem. That is, given the dataset, with predefined labels, we need to build a model to be used to predict class of a new or unknown case.\n\nThe example focuses on using demographic data, such as region, age, and marital, to predict usage patterns.The target field, called custcat, has four possible values that correspond to the four customer groups, as follows: 1- Basic Service 2- E-Service 3- Plus Service 4- Total Service\n\nObjective: Build a classifier using KNN( K Nearest Neighbor)",
      "metadata": {}
    },
    {
      "cell_type": "code",
      "source": "# Download and install packages load libraries",
      "metadata": {},
      "execution_count": null,
      "outputs": []
    },
    {
      "cell_type": "code",
      "source": "import piplite\nawait piplite.install(['matplotlib'])\nawait piplite.install(['numpy'])\nawait piplite.install(['pandas'])\nawait piplite.install(['scikit-learn'])\nawait piplite.install(['scipy'])",
      "metadata": {
        "trusted": true
      },
      "execution_count": 1,
      "outputs": []
    },
    {
      "cell_type": "code",
      "source": "import numpy as np\nimport matplotlib.pyplot as plt\nimport pandas as pd\nfrom sklearn import preprocessing \n%matplotlib inline",
      "metadata": {
        "trusted": true
      },
      "execution_count": 4,
      "outputs": []
    },
    {
      "cell_type": "code",
      "source": "from pyodide.http import pyfetch\n\nasync def download(url, filename):\n    response = await pyfetch(url)\n    if response.status == 200:\n        with open(filename, 'wb') as f:\n            f.write(await response.bytes())",
      "metadata": {
        "trusted": true
      },
      "execution_count": 9,
      "outputs": []
    },
    {
      "cell_type": "markdown",
      "source": "### load in the CSV Data file ",
      "metadata": {}
    },
    {
      "cell_type": "code",
      "source": "path =\"https://cf-courses-data.s3.us.cloud-object-storage.appdomain.cloud/IBMDeveloperSkillsNetwork-ML0101EN-SkillsNetwork/labs/Module%203/data/teleCust1000t.csv\"",
      "metadata": {
        "trusted": true
      },
      "execution_count": 16,
      "outputs": []
    },
    {
      "cell_type": "code",
      "source": "await download(path, 'teleCust1000t.csv')",
      "metadata": {
        "trusted": true
      },
      "execution_count": 17,
      "outputs": []
    },
    {
      "cell_type": "code",
      "source": "df = pd.read_csv('teleCust1000t.csv')\ndf.head()",
      "metadata": {
        "trusted": true
      },
      "execution_count": 18,
      "outputs": [
        {
          "execution_count": 18,
          "output_type": "execute_result",
          "data": {
            "text/plain": "   region  tenure  age  marital  address  income  ed  employ  retire  gender  \\\n0       2      13   44        1        9    64.0   4       5     0.0       0   \n1       3      11   33        1        7   136.0   5       5     0.0       0   \n2       3      68   52        1       24   116.0   1      29     0.0       1   \n3       2      33   33        0       12    33.0   2       0     0.0       1   \n4       2      23   30        1        9    30.0   1       2     0.0       0   \n\n   reside  custcat  \n0       2        1  \n1       6        4  \n2       2        3  \n3       1        1  \n4       4        3  ",
            "text/html": "<div>\n<style scoped>\n    .dataframe tbody tr th:only-of-type {\n        vertical-align: middle;\n    }\n\n    .dataframe tbody tr th {\n        vertical-align: top;\n    }\n\n    .dataframe thead th {\n        text-align: right;\n    }\n</style>\n<table border=\"1\" class=\"dataframe\">\n  <thead>\n    <tr style=\"text-align: right;\">\n      <th></th>\n      <th>region</th>\n      <th>tenure</th>\n      <th>age</th>\n      <th>marital</th>\n      <th>address</th>\n      <th>income</th>\n      <th>ed</th>\n      <th>employ</th>\n      <th>retire</th>\n      <th>gender</th>\n      <th>reside</th>\n      <th>custcat</th>\n    </tr>\n  </thead>\n  <tbody>\n    <tr>\n      <th>0</th>\n      <td>2</td>\n      <td>13</td>\n      <td>44</td>\n      <td>1</td>\n      <td>9</td>\n      <td>64.0</td>\n      <td>4</td>\n      <td>5</td>\n      <td>0.0</td>\n      <td>0</td>\n      <td>2</td>\n      <td>1</td>\n    </tr>\n    <tr>\n      <th>1</th>\n      <td>3</td>\n      <td>11</td>\n      <td>33</td>\n      <td>1</td>\n      <td>7</td>\n      <td>136.0</td>\n      <td>5</td>\n      <td>5</td>\n      <td>0.0</td>\n      <td>0</td>\n      <td>6</td>\n      <td>4</td>\n    </tr>\n    <tr>\n      <th>2</th>\n      <td>3</td>\n      <td>68</td>\n      <td>52</td>\n      <td>1</td>\n      <td>24</td>\n      <td>116.0</td>\n      <td>1</td>\n      <td>29</td>\n      <td>0.0</td>\n      <td>1</td>\n      <td>2</td>\n      <td>3</td>\n    </tr>\n    <tr>\n      <th>3</th>\n      <td>2</td>\n      <td>33</td>\n      <td>33</td>\n      <td>0</td>\n      <td>12</td>\n      <td>33.0</td>\n      <td>2</td>\n      <td>0</td>\n      <td>0.0</td>\n      <td>1</td>\n      <td>1</td>\n      <td>1</td>\n    </tr>\n    <tr>\n      <th>4</th>\n      <td>2</td>\n      <td>23</td>\n      <td>30</td>\n      <td>1</td>\n      <td>9</td>\n      <td>30.0</td>\n      <td>1</td>\n      <td>2</td>\n      <td>0.0</td>\n      <td>0</td>\n      <td>4</td>\n      <td>3</td>\n    </tr>\n  </tbody>\n</table>\n</div>"
          },
          "metadata": {}
        }
      ]
    },
    {
      "cell_type": "markdown",
      "source": "### Data Visualtion and Analysis",
      "metadata": {}
    },
    {
      "cell_type": "code",
      "source": "df['custcat'].value_counts()\ndf.hist(column = 'income', bins=50)",
      "metadata": {
        "trusted": true
      },
      "execution_count": 57,
      "outputs": [
        {
          "execution_count": 57,
          "output_type": "execute_result",
          "data": {
            "text/plain": "array([[<AxesSubplot:title={'center':'income'}>]], dtype=object)"
          },
          "metadata": {}
        },
        {
          "output_type": "display_data",
          "data": {
            "text/plain": "<Figure size 640x480 with 1 Axes>",
            "image/png": "[encoded data removed]"
          },
          "metadata": {}
        }
      ]
    },
    {
      "cell_type": "code",
      "source": "# defining future set. Let set X\ndf.columns",
      "metadata": {
        "trusted": true
      },
      "execution_count": 20,
      "outputs": [
        {
          "execution_count": 20,
          "output_type": "execute_result",
          "data": {
            "text/plain": "Index(['region', 'tenure', 'age', 'marital', 'address', 'income', 'ed',\n       'employ', 'retire', 'gender', 'reside', 'custcat'],\n      dtype='object')"
          },
          "metadata": {}
        }
      ]
    },
    {
      "cell_type": "code",
      "source": "# to use scikit-learn library. Convert the pandas library to a numpy array\nX=df[['region', 'tenure', 'age', 'marital', 'address', 'income', 'ed', 'employ','retire', 'gender', 'reside']].values #.astype(float)\nX[0:5]",
      "metadata": {
        "trusted": true
      },
      "execution_count": 22,
      "outputs": [
        {
          "execution_count": 22,
          "output_type": "execute_result",
          "data": {
            "text/plain": "array([[  2.,  13.,  44.,   1.,   9.,  64.,   4.,   5.,   0.,   0.,   2.],\n       [  3.,  11.,  33.,   1.,   7., 136.,   5.,   5.,   0.,   0.,   6.],\n       [  3.,  68.,  52.,   1.,  24., 116.,   1.,  29.,   0.,   1.,   2.],\n       [  2.,  33.,  33.,   0.,  12.,  33.,   2.,   0.,   0.,   1.,   1.],\n       [  2.,  23.,  30.,   1.,   9.,  30.,   1.,   2.,   0.,   0.,   4.]])"
          },
          "metadata": {}
        }
      ]
    },
    {
      "cell_type": "code",
      "source": "y = df['custcat'].values\ny[0:5]",
      "metadata": {
        "trusted": true
      },
      "execution_count": 23,
      "outputs": [
        {
          "execution_count": 23,
          "output_type": "execute_result",
          "data": {
            "text/plain": "array([1, 4, 3, 1, 3], dtype=int64)"
          },
          "metadata": {}
        }
      ]
    },
    {
      "cell_type": "markdown",
      "source": "### Train Test Split \n\nThis splits the train and test data which are mutually exclusive. When I train the set Ill have to test the data set. This wiill provide a more accurate evalutation on out of sample accuracy.",
      "metadata": {}
    },
    {
      "cell_type": "code",
      "source": "from sklearn.model_selection import train_test_split\nX_train, X_test, y_train, y_test = train_test_split(X, y, test_size=0.2, random_state = 4)\nprint('Train set:', X_train.shape, y_train.shape)\nprint('Test set:', X_test.shape, y_test.shape)",
      "metadata": {
        "trusted": true
      },
      "execution_count": 25,
      "outputs": [
        {
          "name": "stdout",
          "text": "Train set: (800, 11) (800,)\nTest set: (200, 11) (200,)\n",
          "output_type": "stream"
        }
      ]
    },
    {
      "cell_type": "markdown",
      "source": "### Normalize the data\n\nData standaradization gives the data zero mean and unit variance, it is good espically for algorithms such as KNN which is based on the distance of data points.",
      "metadata": {}
    },
    {
      "cell_type": "code",
      "source": "scaler = preprocessing.StandardScaler().fit(X_train)",
      "metadata": {
        "trusted": true
      },
      "execution_count": 26,
      "outputs": []
    },
    {
      "cell_type": "code",
      "source": "X_train_norm = scaler.transform(X_train.astype(float))\nX_train_norm[0:5]",
      "metadata": {
        "trusted": true
      },
      "execution_count": 28,
      "outputs": [
        {
          "execution_count": 28,
          "output_type": "execute_result",
          "data": {
            "text/plain": "array([[-1.28618818e+00, -1.53085556e+00, -8.49354628e-01,\n         1.00752834e+00, -7.46393214e-01, -4.83608776e-01,\n         1.12305195e+00, -7.02283455e-01, -2.23313158e-01,\n        -1.01005050e+00,  1.83304333e+00],\n       [-4.79805457e-02,  2.51253999e-01,  3.44957012e-01,\n         1.00752834e+00,  2.45326718e-01, -2.71543263e-01,\n        -5.40728715e-01, -1.25385370e-04, -2.23313158e-01,\n        -1.01005050e+00,  1.83304333e+00],\n       [-1.28618818e+00, -7.80493639e-01, -6.90113076e-01,\n         1.00752834e+00, -5.21892614e-02, -4.92444839e-01,\n        -1.37261905e+00, -8.02591750e-01, -2.23313158e-01,\n        -1.01005050e+00,  1.83304333e+00],\n       [-4.79805457e-02, -1.53085556e+00, -3.71629972e-01,\n        -9.92527915e-01,  1.46154725e-01, -4.74772713e-01,\n        -1.37261905e+00, -8.02591750e-01, -2.23313158e-01,\n         9.90049504e-01, -9.33814526e-01],\n       [ 1.19022709e+00, -2.17722200e-01, -6.10492300e-01,\n        -9.92527915e-01, -2.50533248e-01,  2.40948394e-01,\n         1.12305195e+00, -4.01358568e-01, -2.23313158e-01,\n         9.90049504e-01,  1.14132887e+00]])"
          },
          "metadata": {}
        }
      ]
    },
    {
      "cell_type": "markdown",
      "source": "### Classification\n#### K nearest neighboor (KNN)",
      "metadata": {}
    },
    {
      "cell_type": "code",
      "source": "from sklearn.neighbors import KNeighborsClassifier",
      "metadata": {
        "trusted": true
      },
      "execution_count": 29,
      "outputs": []
    },
    {
      "cell_type": "code",
      "source": "# train the data set lets start the algorithm with k=4 fro now.\nk=4\nneigh = KNeighborsClassifier(n_neighbors = k).fit(X_train_norm, y_train)\nneigh",
      "metadata": {
        "trusted": true
      },
      "execution_count": 31,
      "outputs": [
        {
          "execution_count": 31,
          "output_type": "execute_result",
          "data": {
            "text/plain": "KNeighborsClassifier(n_neighbors=4)"
          },
          "metadata": {}
        }
      ]
    },
    {
      "cell_type": "code",
      "source": "X_test_norm = scaler.transform(X_test.astype(float))\nX_test_norm[0:5]",
      "metadata": {
        "trusted": true
      },
      "execution_count": 32,
      "outputs": [
        {
          "execution_count": 32,
          "output_type": "execute_result",
          "data": {
            "text/plain": "array([[-1.28618818e+00, -9.68084119e-01, -9.28975404e-01,\n         1.00752834e+00, -3.49705241e-01,  1.08407449e-01,\n        -5.40728715e-01, -1.25385370e-04, -2.23313158e-01,\n        -1.01005050e+00,  1.83304333e+00],\n       [-1.28618818e+00, -1.48395794e+00, -1.32767644e-01,\n        -9.92527915e-01,  4.69827318e-02, -3.51067830e-01,\n        -5.40728715e-01, -6.01975159e-01, -2.23313158e-01,\n        -1.01005050e+00, -9.33814526e-01],\n       [-1.28618818e+00, -5.46005540e-01,  1.53926865e+00,\n         1.00752834e+00, -5.48049227e-01,  3.02800836e-01,\n         1.12305195e+00, -8.02591750e-01, -2.23313158e-01,\n         9.90049504e-01,  1.14132887e+00],\n       [-1.28618818e+00, -7.80493639e-01, -8.49354628e-01,\n         1.00752834e+00, -1.14308119e+00, -4.92444839e-01,\n         1.12305195e+00, -9.02900046e-01, -2.23313158e-01,\n        -1.01005050e+00,  4.49614402e-01],\n       [-1.28618818e+00,  4.85742098e-01, -1.00859618e+00,\n         1.00752834e+00, -7.46393214e-01,  1.08407449e-01,\n         1.95494228e+00, -8.02591750e-01, -2.23313158e-01,\n        -1.01005050e+00,  1.14132887e+00]])"
          },
          "metadata": {}
        }
      ]
    },
    {
      "cell_type": "markdown",
      "source": "#### Predicting\n make predictions on the test set:",
      "metadata": {}
    },
    {
      "cell_type": "code",
      "source": "yhat = neigh.predict(X_test_norm)\nyhat[0:5]",
      "metadata": {
        "trusted": true
      },
      "execution_count": 34,
      "outputs": [
        {
          "execution_count": 34,
          "output_type": "execute_result",
          "data": {
            "text/plain": "array([1, 1, 3, 2, 4], dtype=int64)"
          },
          "metadata": {}
        }
      ]
    },
    {
      "cell_type": "code",
      "source": "# now wea will go through the accuracy evaluation classification score \nfrom sklearn import metrics \nprint('Train set Accuracy:', metrics.accuracy_score(y_train, neigh.predict(X_train_norm)))\nprint('Train set Accuracy:', metrics.accuracy_score(y_test, yhat))",
      "metadata": {
        "trusted": true
      },
      "execution_count": 38,
      "outputs": [
        {
          "name": "stdout",
          "text": "Train set Accuracy: 0.5475\nTrain set Accuracy: 0.32\n",
          "output_type": "stream"
        }
      ]
    },
    {
      "cell_type": "code",
      "source": "k=6\nneigh = KNeighborsClassifier(n_neighbors = k).fit(X_train_norm, y_train)\nneigh",
      "metadata": {
        "trusted": true
      },
      "execution_count": 40,
      "outputs": [
        {
          "execution_count": 40,
          "output_type": "execute_result",
          "data": {
            "text/plain": "KNeighborsClassifier(n_neighbors=6)"
          },
          "metadata": {}
        }
      ]
    },
    {
      "cell_type": "code",
      "source": "X_test_norm=scaler.transform(X_test.astype(float))\nX_test_norm[0:5]",
      "metadata": {
        "trusted": true
      },
      "execution_count": 41,
      "outputs": [
        {
          "execution_count": 41,
          "output_type": "execute_result",
          "data": {
            "text/plain": "array([[-1.28618818e+00, -9.68084119e-01, -9.28975404e-01,\n         1.00752834e+00, -3.49705241e-01,  1.08407449e-01,\n        -5.40728715e-01, -1.25385370e-04, -2.23313158e-01,\n        -1.01005050e+00,  1.83304333e+00],\n       [-1.28618818e+00, -1.48395794e+00, -1.32767644e-01,\n        -9.92527915e-01,  4.69827318e-02, -3.51067830e-01,\n        -5.40728715e-01, -6.01975159e-01, -2.23313158e-01,\n        -1.01005050e+00, -9.33814526e-01],\n       [-1.28618818e+00, -5.46005540e-01,  1.53926865e+00,\n         1.00752834e+00, -5.48049227e-01,  3.02800836e-01,\n         1.12305195e+00, -8.02591750e-01, -2.23313158e-01,\n         9.90049504e-01,  1.14132887e+00],\n       [-1.28618818e+00, -7.80493639e-01, -8.49354628e-01,\n         1.00752834e+00, -1.14308119e+00, -4.92444839e-01,\n         1.12305195e+00, -9.02900046e-01, -2.23313158e-01,\n        -1.01005050e+00,  4.49614402e-01],\n       [-1.28618818e+00,  4.85742098e-01, -1.00859618e+00,\n         1.00752834e+00, -7.46393214e-01,  1.08407449e-01,\n         1.95494228e+00, -8.02591750e-01, -2.23313158e-01,\n        -1.01005050e+00,  1.14132887e+00]])"
          },
          "metadata": {}
        }
      ]
    },
    {
      "cell_type": "code",
      "source": "yhat =neigh.predict(X_test_norm)\nyhat[0:5]",
      "metadata": {
        "trusted": true
      },
      "execution_count": 42,
      "outputs": [
        {
          "execution_count": 42,
          "output_type": "execute_result",
          "data": {
            "text/plain": "array([3, 3, 3, 4, 4], dtype=int64)"
          },
          "metadata": {}
        }
      ]
    },
    {
      "cell_type": "code",
      "source": "from sklearn import metrics\nprint('Train set Accuracy:', metrics.accuracy_score(y_train, neigh.predict(X_train_norm)))\nprint('Test se Accuracy:', metrics.accuracy_score(y_test, yhat))",
      "metadata": {
        "trusted": true
      },
      "execution_count": 44,
      "outputs": [
        {
          "name": "stdout",
          "text": "Train set Accuracy: 0.5125\nTest se Accuracy: 0.31\n",
          "output_type": "stream"
        }
      ]
    },
    {
      "cell_type": "code",
      "source": "Ks = 10\nmean_acc = np.zeros((Ks-1))\nstd_acc = np.zeros((Ks-1))\n\nfor n in range(1,Ks):\n    \n    #Train Model and Predict\n    neigh = KNeighborsClassifier(n_neighbors = n).fit(X_train_norm,y_train)\n    yhat=neigh.predict(X_test_norm)\n    mean_acc[n-1] = metrics.accuracy_score(y_test, yhat)\n    \n    std_acc[n-1] = np.std(yhat==y_test)/np.sqrt(yhat.shape[0])\n\n    \nmean_acc\n    ",
      "metadata": {
        "trusted": true
      },
      "execution_count": 52,
      "outputs": [
        {
          "execution_count": 52,
          "output_type": "execute_result",
          "data": {
            "text/plain": "array([0.3  , 0.305, 0.315, 0.32 , 0.315, 0.31 , 0.33 , 0.325, 0.335])"
          },
          "metadata": {}
        }
      ]
    },
    {
      "cell_type": "code",
      "source": "plt.plot(range(1,Ks), mean_acc, 'g')\nplt.fill_between(range(1,Ks),mean_acc - 1 * std_acc, mean_acc + 1 * std_acc, alpha=.10)\nplt.fill_between(range(1,Ks),mean_acc - 1 * std_acc, mean_acc + 1 * std_acc, alpha=.10)\nplt.legend(('Accuracy', '+/- 1xstd', '+/- 3xstd'))\nplt.ylabel('accuracy')\nplt.xlabel('Number of Neighbors (K)')\nplt.tight_layout()\nplt.show()\n                 ",
      "metadata": {
        "trusted": true
      },
      "execution_count": 54,
      "outputs": [
        {
          "output_type": "display_data",
          "data": {
            "text/plain": "<pyolite.display.Image at 0x6d66140>",
            "image/png": "[encoded data removed]"
          },
          "metadata": {}
        },
        {
          "output_type": "display_data",
          "data": {
            "text/plain": "<Figure size 640x480 with 0 Axes>"
          },
          "metadata": {}
        }
      ]
    },
    {
      "cell_type": "code",
      "source": "",
      "metadata": {},
      "execution_count": null,
      "outputs": []
    }
  ]
}